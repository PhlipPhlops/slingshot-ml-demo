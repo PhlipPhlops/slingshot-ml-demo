{
 "cells": [
  {
   "cell_type": "code",
   "execution_count": 2,
   "metadata": {},
   "outputs": [],
   "source": [
    "import pandas as pd\n",
    "import numpy as np\n",
    "\n",
    "# In this file, we'll take the dialogue sample (10,000 dialogues) and label them with GPT\n",
    "# Grab the sample, concatenate the text (save it), and then label with GPT\n",
    "# Join the labels back to the original dataframe, and save that"
   ]
  },
  {
   "cell_type": "code",
   "execution_count": 6,
   "metadata": {},
   "outputs": [
    {
     "name": "stdout",
     "output_type": "stream",
     "text": [
      "   folder  dialogueID                      date      from        to  \\\n",
      "0       7  100000.tsv  2007-03-01T07:55:00.000Z     dyrne  martalli   \n",
      "1       7  100000.tsv  2007-03-01T07:56:00.000Z  martalli       NaN   \n",
      "2       7  100000.tsv  2007-03-01T07:57:00.000Z  martalli       NaN   \n",
      "3       7  100000.tsv  2007-03-01T07:57:00.000Z     dyrne  martalli   \n",
      "4       7  100000.tsv  2007-03-01T07:58:00.000Z  martalli       NaN   \n",
      "\n",
      "                                                text  \n",
      "0  could you just put a script in inittab with th...  \n",
      "1  Well, actually, I was planning somehting like ...  \n",
      "2                         What would it be for edgy?  \n",
      "3  im not sure about new init.  i think edgy stil...  \n",
      "4  Regarding sound cards, I found this one:http:/...  \n",
      "(437653, 6)\n"
     ]
    }
   ],
   "source": [
    "# Load the CSV file into a DataFrame\n",
    "df = pd.read_csv('data/10k-dialogues-sample.csv')\n",
    "\n",
    "# Display the first few rows of the DataFrame\n",
    "print(df.head())\n",
    "print(df.shape)"
   ]
  },
  {
   "cell_type": "code",
   "execution_count": 4,
   "metadata": {},
   "outputs": [
    {
     "name": "stdout",
     "output_type": "stream",
     "text": [
      "The concatenated dialogues have been saved to 'concatenated_dialogue.csv'\n",
      "\n",
      "First few lines of the saved CSV file:\n",
      "   dialogueID  folder                      date                                                                                                                                                                                                                                                                                                                                                                                                                                                                                                                                                                                                                                                                                                                                                                                                                                                                                                                                                                                                                                                                                                                                                                                                                                                                                                                                                                                                                                                                                                                                                                                                                                                                                                                                                                                                                                                                                                                                                                                                                                                                                                                                                                                                                                                                                                                                                                                                                                                                                                                                                                                                                                                                                                                                                                                                                                                                                                                                                                                                                                                                                                                                                                          text\n",
      "0  100000.tsv       7  2007-03-01T07:55:00.000Z                                                                                                                                                                                                                                                                                                                                <from: dyrne, to: martalli> could you just put a script in inittab with the respawn option and use mplayer with a playlist? || <from: martalli, to: nan> Well, actually, I was planning somehting like that, but looking for a pointer on what to look up first - I will check out inittab || <from: martalli, to: nan> What would it be for edgy? || <from: dyrne, to: martalli> im not sure about new init.  i think edgy still has /etc/inittab || <from: martalli, to: nan> Regarding sound cards, I found this one:http://www.newegg.com/Product/Product.asp?Item=N82E16829130001 || <from: martalli, to: nan> on newegg for 7.50 (abnout 13 after shipping) || <from: martalli, to: dyrne>  Thanks for the tip.  I can probably take it from there || <from: nevermind, to: nan> html || <from: nevermind, to: nan> !html || <from: nevermind, to: nan> !nvu || <from: nevermind, to: nan> !bluefish || <from: nevermind, to: nan> !quanta+ || <from: nevermind, to: nan> !screem || <from: nevermind, to: nan> oO || <from: velko, to: nevermind> you can experiment with ubotu like that '/msg ubotu bluefish' || <from: spx2, to: nan> if i disable gdm will i still be able to login into icewm ? || <from: spx2, to: nan> will i be screwed ? || <from: Frogzoo, to: spx2> /etc/init.d/gdm start || <from: spx2, to: Frogzoo> thanks || <from: Frogzoo, to: spx2> pastebin, thx || <from: Frogzoo, to: spx2> apt-cache search pageant || <from: SuperATP1, to: nan> anyone know why everytime i browse my linux machine from my windows machine it asks for a login?? || <from: SuperATP1, to: nan> but when i put the username and password for the xubuntu machine is still doesnt work || <from: zinake, to: SuperATP1> it sounds like SAMBA configuration || <from: |MUSE|, to: nan> I just installed ubuntu-server. What would I need to install to get a graphical application to run over ssh, like: ssh -X 10.10.10.10 psp. || <from: |MUSE|, to: nan> ﻿fiXXXerMet: this application does not have a command-line. :/ || <from: n8tuser, to: |MUSE|> -> your psp has to have an Xserver also || <from: n8tuser, to: |MUSE|> -> provide a better information || <from: etotheipi, to: nan> I followed a guide (http://superuser.com/questions/19318/how-can-i-give-write-access-of-a-folder-to-all-users-in-linux) to make /var/www writable to anyone in the www-data group and added my user to sid group, but I still can't make files or directories there. am I missing something? || <from: etotheipi, to: nan> er, said. || <from: jrib, to: etotheipi> did you log out and back in? || <from: etotheipi, to: jrib> I hadn't -- but that seems to have fixed it. thanks. not sure why I thought the changes propagated immediately || <from: jrib, to: etotheipi> yeah, you need to log in again for group membership\n",
      "1  100002.tsv       7  2006-02-27T14:42:00.000Z                                                                                                                                                                                                                                                                                                                                                                                                                                                                                                                                                                                                                                                                                                                                                                                                                                                                                                <from: dyrne, to: martalli> when I try to install suns jre I get sudo apt-get install sun-j2re1.5....Package sun-j2re1.5 is not available, but is referred to by another package. || <from: martalli, to: nan> then it says the package may be obsolete || <from: martalli, to: nan> I need java to do stuff on the net || <from: dyrne, to: martalli> gcj wont work in konqueror || <from: martalli, to: nan> multiverse...universe... || <from: martalli, to: nan> wheres galaxy? || <from: martalli, to: dyrne> if you want to apt-get a jre from regular repos i believe you have to go with blackdown || <from: nevermind, to: nan> where do i find the vim configuration file ? || <from: nevermind, to: nan> .exrc || <from: nevermind, to: nan> can you expalin more ? || <from: nevermind, to: nan> last warning... || <from: nevermind, to: nan> ok, move on || <from: nevermind, to: nan> i guess || <from: nevermind, to: nan> how do i enable hardware opengl? || <from: velko, to: nevermind> you need to install the drivers for your graphics card || <from: spx2, to: nan> where from? || <from: spx2, to: nan> !repeat | Ugural || <from: Frogzoo, to: spx2> well, what type of gfx card do you have? || <from: spx2, to: Frogzoo> if i installed another linux opperating system next to ubuntu, would it take the GRUB i have now and modify it? || <from: Frogzoo, to: spx2> it would install anotehr bootloader || <from: Frogzoo, to: spx2> like what? || <from: SuperATP1, to: nan> how do i boot into a command line || <from: SuperATP1, to: nan> not the grub command line, the actual ubuntu command line || <from: zinake, to: SuperATP1> the gui dosn't load, i need to boot into a command line to install my graphics card driver || <from: |MUSE|, to: nan> -> boot into single user mode and fix it? || <from: |MUSE|, to: nan> So, could someone help with my problem, please? || <from: n8tuser, to: |MUSE|> Mm. || <from: n8tuser, to: |MUSE|> sec, I'll pastebin || <from: etotheipi, to: nan> http://paste.ubuntu.com/868551/ || <from: etotheipi, to: nan> ^ || <from: jrib, to: etotheipi> So...? || <from: etotheipi, to: jrib> or have you tinkered with /etc/hosts? || <from: jrib, to: etotheipi> and what does apt-get says now?\n",
      "2  100038.tsv       8  2005-08-26T12:26:00.000Z                                                                                                                                                                                                                                                                                                                                                                                                                                                                                                                                                                                                                                                                                                                          <from: dyrne, to: martalli> k installed.......... where the hell would i begin to look for config files etc, not too driven on security issues is for lan use || <from: martalli, to: nan> /etc/apache2 || <from: martalli, to: nan> as seveas said, it's running already; it will by default be started at boot || <from: dyrne, to: martalli> does it work from the ubuntu machine though? || <from: martalli, to: nan> index.html needs to be readable by the 'nobody' user, i think || <from: martalli, to: nan> you can look in the apache logs for clues to the problem; the logs are in /var/log/apache2 || <from: martalli, to: dyrne> yip. make it world-readable || <from: nevermind, to: nan> cool || <from: nevermind, to: nan> graveson || <from: nevermind, to: nan> i installed dapper || <from: nevermind, to: nan> need some help? || <from: nevermind, to: nan> what's the prob? || <from: nevermind, to: nan> pastebin the output of ifconfig -a for a start || <from: nevermind, to: nan> when i first got my hands onthis laptop on tuesday, sound ethernet and wifi were all blanks || <from: velko, to: nevermind> hello || <from: spx2, to: nan> can i ask something || <from: spx2, to: nan> what is the standard minimum requirements || <from: Frogzoo, to: spx2> what is the lowest RAM requirments || <from: spx2, to: Frogzoo> how bout for gusty || <from: Frogzoo, to: spx2> as you can choose the graphical user-interface (xfce/gnome/etc.), there should be a solution also for low ram pcs || <from: Frogzoo, to: spx2> you should create a swap partition || <from: SuperATP1, to: nan> can grub boot XP logical extended partition pls someone || <from: SuperATP1, to: nan> can grub boot XP logical extended partition pls someone || <from: zinake, to: SuperATP1> can grub boot XP logical extended partition pls someone || <from: |MUSE|, to: nan> assuming xp is ok on the logical partition grub can boot it fine || <from: |MUSE|, to: nan> yep || <from: n8tuser, to: |MUSE|> merci || <from: n8tuser, to: |MUSE|> ops || <from: etotheipi, to: nan> i mean , thank you || <from: etotheipi, to: nan> lol || <from: jrib, to: etotheipi>  anyone know if there's a car gps that syncs/updates maps through ubuntul friendly sofware? || <from: etotheipi, to: jrib> nothing really || <from: jrib, to: etotheipi> bleh, i was afraid that was the case. googling for this has been pretty depressing\n",
      "3  100196.tsv       8  2005-02-25T15:34:00.000Z  <from: dyrne, to: martalli> is there an easy way to upgrade to hoary? || <from: martalli, to: nan> change all refs to warty in /etc/apt/sources.list to hoary || <from: martalli, to: nan> then apt-get update && apt-get dist-upgrade || <from: dyrne, to: martalli> worked for me || <from: martalli, to: nan> if you want a stable system wait until its released || <from: martalli, to: nan> but it works really well for me || <from: martalli, to: dyrne> but you will need to update alot to get the fixes as they are released || <from: nevermind, to: nan> are you looking for an item specificaly? || <from: nevermind, to: nan> i have a problem with an ATI radeon xpress 1150 and beryl. it doesnt work. I followed this thread: http://ubuntuforums.org/showthread.php?t=488385 || <from: nevermind, to: nan> but when it gets to loading the XGL and gnome its all jumbly || <from: nevermind, to: nan> hey || <from: nevermind, to: nan> can you go back to the ubuntu-effects channel?  way too much chatter here || <from: nevermind, to: nan> yeah, I answered right after you left :( || <from: nevermind, to: nan> tommy: does 'free' show swap in use? || <from: velko, to: nevermind> tommy: try 'swapon' and the partition that you reserved for swap. (or swapon -a) || <from: spx2, to: nan> what do u mean? || <from: spx2, to: nan> free says, 'Swap:            0          0          0' || <from: Frogzoo, to: spx2> yes I did || <from: spx2, to: Frogzoo> I made a seperate partiion, told gparted to use as linux swap.  Then I restored an old Hardy backup.  And im runnning hardy now, but it doesnt seem to be using my swap partition. what can I do? || <from: Frogzoo, to: spx2> how come Hardy is running fine if its not using any swap partition? || <from: Frogzoo, to: spx2> Any idea's how i could find ou why this is not working ? || <from: SuperATP1, to: nan> Tryed normal cd, normal alt cd, tryed windows install, nothign nothing nothing || <from: SuperATP1, to: nan> Does it even begin to boot from the cdrom ? || <from: zinake, to: SuperATP1> Sounds like it can't understand where the cdrom is or how to use it. || <from: |MUSE|, to: nan> It begins to boot, then when it comes time to load the live filesystem, it can't find a device to load it from. This sometimes happens on SATA cdroms for instance, where the chipset driver for the SATA controller is not loaded into the initrd of the kernel || <from: |MUSE|, to: nan> You may have in your bios an option where all the sata drives can be seen as traditional IDE types. If so perhaps try this and see if the cd loads further || <from: n8tuser, to: |MUSE|> ishmaelds || <from: n8tuser, to: |MUSE|> isn't there flash 10 out? || <from: etotheipi, to: nan> cat /proc/cpuinfo ? || <from: etotheipi, to: nan> , forces : I installed flash through the the web.  Went to adobe's site downloaded the .deb for 8.04(figured it would work) || <from: jrib, to: etotheipi> is there a proc that shows which eth devices are available? || <from: etotheipi, to: jrib> do you mean /proc/net/dev? || <from: jrib, to: etotheipi> Thanks\n",
      "4  100197.tsv       8  2005-02-06T15:13:00.000Z                                                                                                                                                                                                                                                                                                                   <from: dyrne, to: martalli> hi || <from: martalli, to: nan> i have a problem with ubuntu hoary array 3 || <from: martalli, to: nan> it tries to fry my monitor (high pitched sound, no display) || <from: dyrne, to: martalli> try a different refresh rate || <from: martalli, to: nan> yep || <from: martalli, to: nan> you rmanufacturer || <from: martalli, to: dyrne> apt-cache search ^ntfs || <from: nevermind, to: nan> and maybe libntfs* || <from: nevermind, to: nan> genii:I hav tis at terminal..'ganesh@ganesh-desktop:~$' I need to install qwe.rpm file..how can i do this? || <from: nevermind, to: nan> Well, first off you shouldn't install foreign package types like rpm if at all possible || <from: nevermind, to: nan> There is probably a decent python editor with a package you can install the normal way without using Alien for some rpm file. || <from: nevermind, to: nan> i do not program much in python to know what is a good editor for it. || <from: nevermind, to: nan> pype seems recommended || <from: nevermind, to: nan> i found a list of install candidates by:   apt-cache search python|grep edit || <from: velko, to: nevermind> wireless or wired? || <from: spx2, to: nan> Wireless || <from: spx2, to: nan> You can but it's not that simple... there are a few posts around the web telling you how to go about it... eg: http://haritkothari.wordpress.com/2007/12/11/ad-hoc-wireless-networking-with-ubuntu/ || <from: Frogzoo, to: spx2> OK, I'll read that. Thanks. I should be able to SSH through that, right? || <from: spx2, to: Frogzoo> yeah || <from: Frogzoo, to: spx2> has the repos cooled down yet? || <from: Frogzoo, to: spx2> :-( || <from: SuperATP1, to: nan> in previous upgrades i believe i just pointed to other repos ....if you just gotta have it right now || <from: SuperATP1, to: nan> sounds like you are already commited.   been a while...u can probably do a google search to get a howto....basically, just point your repos to a different location...especially a more local one || <from: zinake, to: SuperATP1> how do i update my video card drivers? (i have a gainward gefirce 8500gt) || <from: |MUSE|, to: nan> thats obviously not funny. || <from: |MUSE|, to: nan> how do i update my video card drivers? (i have a gainward gefirce 8500gt) || <from: n8tuser, to: |MUSE|> uh oh, geforce * || <from: n8tuser, to: |MUSE|> im new to linux, i need more in depth infomation || <from: etotheipi, to: nan> do you seek a black kidney? :) || <from: etotheipi, to: nan> http://digg.com/linux_unix/How_to_install_Nvidia_driver_in_Ubuntu_Hardy_heron || <from: jrib, to: etotheipi> what package do I need to install to convert my kubuntu 10.10 in ubuntu 10.10? || <from: etotheipi, to: jrib> 'ubuntu-desktop' || <from: jrib, to: etotheipi> thx\n"
     ]
    }
   ],
   "source": [
    "# Let's group the data by dialogueID, separate by <from: , to: > and concatenate the text\n",
    "\n",
    "# Group by dialogueID and aggregate the other columns\n",
    "df_grouped = df.groupby('dialogueID').agg({\n",
    "    'folder': 'first',\n",
    "    'date': 'first',\n",
    "    'text': lambda x: ' || '.join(f\"<from: {f}, to: {t}> {txt}\" for f, t, txt in zip(df['from'], df['to'], x))\n",
    "}).reset_index()\n",
    "\n",
    "# Save the grouped DataFrame to a CSV file\n",
    "df_grouped.to_csv('data/concatenated_dialogue.csv', index=False)\n",
    "\n",
    "print(\"The concatenated dialogues have been saved to 'concatenated_dialogue.csv'\")\n",
    "\n",
    "# Optionally, you can verify the file contents\n",
    "print(\"\\nFirst few lines of the saved CSV file:\")\n",
    "print(pd.read_csv('data/concatenated_dialogue.csv', nrows=5).to_string())"
   ]
  },
  {
   "cell_type": "code",
   "execution_count": 5,
   "metadata": {},
   "outputs": [
    {
     "name": "stdout",
     "output_type": "stream",
     "text": [
      "Sample Discussion 1:\n",
      "<from: dyrne, to: martalli> could you just put a script in inittab with the respawn option and use mplayer with a playlist? || <from: martalli, to: nan> Well, actually, I was planning somehting like that, but looking for a pointer on what to look up first - I will check out inittab || <from: martalli, to: nan> What would it be for edgy? || <from: dyrne, to: martalli> im not sure about new init.  i think edgy still has /etc/inittab || <from: martalli, to: nan> Regarding sound cards, I found this one:http://www.newegg.com/Product/Product.asp?Item=N82E16829130001 || <from: martalli, to: nan> on newegg for 7.50 (abnout 13 after shipping) || <from: martalli, to: dyrne>  Thanks for the tip.  I can probably take it from there || <from: nevermind, to: nan> html || <from: nevermind, to: nan> !html || <from: nevermind, to: nan> !nvu || <from: nevermind, to: nan> !bluefish || <from: nevermind, to: nan> !quanta+ || <from: nevermind, to: nan> !screem || <from: nevermind, to: nan> oO || <from: velko, to: nevermind> you can experiment with ubotu like that '/msg ubotu bluefish' || <from: spx2, to: nan> if i disable gdm will i still be able to login into icewm ? || <from: spx2, to: nan> will i be screwed ? || <from: Frogzoo, to: spx2> /etc/init.d/gdm start || <from: spx2, to: Frogzoo> thanks || <from: Frogzoo, to: spx2> pastebin, thx || <from: Frogzoo, to: spx2> apt-cache search pageant || <from: SuperATP1, to: nan> anyone know why everytime i browse my linux machine from my windows machine it asks for a login?? || <from: SuperATP1, to: nan> but when i put the username and password for the xubuntu machine is still doesnt work || <from: zinake, to: SuperATP1> it sounds like SAMBA configuration || <from: |MUSE|, to: nan> I just installed ubuntu-server. What would I need to install to get a graphical application to run over ssh, like: ssh -X 10.10.10.10 psp. || <from: |MUSE|, to: nan> ﻿fiXXXerMet: this application does not have a command-line. :/ || <from: n8tuser, to: |MUSE|> -> your psp has to have an Xserver also || <from: n8tuser, to: |MUSE|> -> provide a better information || <from: etotheipi, to: nan> I followed a guide (http://superuser.com/questions/19318/how-can-i-give-write-access-of-a-folder-to-all-users-in-linux) to make /var/www writable to anyone in the www-data group and added my user to sid group, but I still can't make files or directories there. am I missing something? || <from: etotheipi, to: nan> er, said. || <from: jrib, to: etotheipi> did you log out and back in? || <from: etotheipi, to: jrib> I hadn't -- but that seems to have fixed it. thanks. not sure why I thought the changes propagated immediately || <from: jrib, to: etotheipi> yeah, you need to log in again for group membership\n",
      "\n",
      "Sample Discussion 2:\n",
      "<from: dyrne, to: martalli> when I try to install suns jre I get sudo apt-get install sun-j2re1.5....Package sun-j2re1.5 is not available, but is referred to by another package. || <from: martalli, to: nan> then it says the package may be obsolete || <from: martalli, to: nan> I need java to do stuff on the net || <from: dyrne, to: martalli> gcj wont work in konqueror || <from: martalli, to: nan> multiverse...universe... || <from: martalli, to: nan> wheres galaxy? || <from: martalli, to: dyrne> if you want to apt-get a jre from regular repos i believe you have to go with blackdown || <from: nevermind, to: nan> where do i find the vim configuration file ? || <from: nevermind, to: nan> .exrc || <from: nevermind, to: nan> can you expalin more ? || <from: nevermind, to: nan> last warning... || <from: nevermind, to: nan> ok, move on || <from: nevermind, to: nan> i guess || <from: nevermind, to: nan> how do i enable hardware opengl? || <from: velko, to: nevermind> you need to install the drivers for your graphics card || <from: spx2, to: nan> where from? || <from: spx2, to: nan> !repeat | Ugural || <from: Frogzoo, to: spx2> well, what type of gfx card do you have? || <from: spx2, to: Frogzoo> if i installed another linux opperating system next to ubuntu, would it take the GRUB i have now and modify it? || <from: Frogzoo, to: spx2> it would install anotehr bootloader || <from: Frogzoo, to: spx2> like what? || <from: SuperATP1, to: nan> how do i boot into a command line || <from: SuperATP1, to: nan> not the grub command line, the actual ubuntu command line || <from: zinake, to: SuperATP1> the gui dosn't load, i need to boot into a command line to install my graphics card driver || <from: |MUSE|, to: nan> -> boot into single user mode and fix it? || <from: |MUSE|, to: nan> So, could someone help with my problem, please? || <from: n8tuser, to: |MUSE|> Mm. || <from: n8tuser, to: |MUSE|> sec, I'll pastebin || <from: etotheipi, to: nan> http://paste.ubuntu.com/868551/ || <from: etotheipi, to: nan> ^ || <from: jrib, to: etotheipi> So...? || <from: etotheipi, to: jrib> or have you tinkered with /etc/hosts? || <from: jrib, to: etotheipi> and what does apt-get says now?\n"
     ]
    }
   ],
   "source": []
  },
  {
   "cell_type": "code",
   "execution_count": 10,
   "metadata": {},
   "outputs": [],
   "source": [
    "data_labeling_prompt = \"\"\"\n",
    "Data Labeling Task: Evaluating Conversation Success\n",
    "\n",
    "Objective: Your task is to review a set of dialogue conversations and assign a success rating to each one based on how effectively the user's needs were addressed. The rating system ranges from 0 to 4 stars, where:\n",
    "\n",
    "0 Stars: The conversation was unsuccessful.\n",
    "4 Stars: The conversation was highly successful.\n",
    "Instructions:\n",
    "\n",
    "Identify the User Seeking Help:\n",
    "\n",
    "Typically, the first person to post in the conversation is the user seeking help.\n",
    "They are the ones initiating requests, asking questions, or seeking assistance.\n",
    "Evaluate the Conversation:\n",
    "\n",
    "Read the entire conversation thoroughly.\n",
    "Determine the extent to which the user's needs or questions were addressed.\n",
    "Look for indicators of satisfaction or frustration from the user.\n",
    "Assign a Star Rating:\n",
    "\n",
    "4 Stars (Excellent Success):\n",
    "\n",
    "The user clearly received the help they were seeking.\n",
    "The user's questions or issues were fully resolved.\n",
    "The user expresses satisfaction, gratitude, or positive feedback.\n",
    "Example indicators: \"Thanks for the tip. I can probably take it from there.\"\n",
    "3 Stars (Good Success):\n",
    "\n",
    "The user received substantial help but may have minor unresolved issues.\n",
    "The conversation was helpful but not exceptional.\n",
    "The user seems mostly satisfied but doesn't explicitly express strong appreciation.\n",
    "2 Stars (Moderate Success):\n",
    "\n",
    "The user received some assistance but significant questions or issues remain.\n",
    "Responses were partially helpful or only addressed part of the user's needs.\n",
    "The user may seem uncertain or only partially satisfied.\n",
    "1 Star (Minimal Success):\n",
    "\n",
    "The user received little help.\n",
    "The assistance was minimal, off-topic, or not useful.\n",
    "The user may show signs of mild frustration or confusion.\n",
    "0 Stars (No Success):\n",
    "\n",
    "The user did not receive any help or solutions.\n",
    "The user expresses clear frustration or dissatisfaction.\n",
    "The user leaves the conversation early without resolution.\n",
    "Example indicators: Repeated unanswered questions, expressions like \"last warning...\", \"ok, move on\".\n",
    "Additional Considerations:\n",
    "\n",
    "User Frustration: Pay attention to signs of frustration, such as repeated questions, abrupt comments, or negative language.\n",
    "Conversation Flow: Consider whether the conversation stays on topic and progresses toward resolving the user's issue.\n",
    "Incomplete Interactions: If the conversation ends abruptly without resolution, it likely warrants a lower rating.\n",
    "Multiple Participants: Be aware that others may join the conversation; focus on whether the user's needs are being addressed.\n",
    "Formatting Your Response:\n",
    "\n",
    "For each conversation, provide the assigned star rating (0-4 stars).\n",
    "Optionally, include a brief justification for your rating (1-2 sentences).\n",
    "Examples:\n",
    "\n",
    "Sample Conversation A:\n",
    "\n",
    "Excerpt: \"<from: etotheipi, to: jrib> I hadn't -- but that seems to have fixed it. thanks.\"\n",
    "Rating: 4 Stars\n",
    "Justification: The user received a solution that fixed the issue and expressed gratitude.\n",
    "Sample Conversation B:\n",
    "\n",
    "Excerpt: \"<from: nevermind, to: nan> last warning... || <from: nevermind, to: nan> ok, move on\"\n",
    "Rating: 0 Stars\n",
    "Justification: The user shows signs of frustration and did not receive the help needed.\n",
    "Purpose: This labeling will help us assess the effectiveness of our support interactions and identify areas for improvement.\n",
    "\"\"\""
   ]
  },
  {
   "cell_type": "code",
   "execution_count": 13,
   "metadata": {},
   "outputs": [
    {
     "name": "stderr",
     "output_type": "stream",
     "text": [
      "Rating conversations:  95%|█████████▌| 9535/10000 [23:59<01:12,  6.46it/s]  "
     ]
    },
    {
     "name": "stdout",
     "output_type": "stream",
     "text": [
      "Error processing conversation: Error code: 400 - {'error': {'message': \"This model's maximum context length is 128000 tokens. However, your messages resulted in 129448 tokens (including 44 in the response_format schemas.). Please reduce the length of the messages or schemas.\", 'type': 'invalid_request_error', 'param': 'messages', 'code': 'context_length_exceeded'}}\n"
     ]
    },
    {
     "name": "stderr",
     "output_type": "stream",
     "text": [
      "Rating conversations: 100%|██████████| 10000/10000 [25:05<00:00,  6.64it/s]\n"
     ]
    },
    {
     "name": "stdout",
     "output_type": "stream",
     "text": [
      "Ratings and justifications have been added to the dataset and saved as 'rated_dialogues.csv'\n"
     ]
    }
   ],
   "source": [
    "from pydantic import BaseModel\n",
    "from openai import OpenAI\n",
    "import pandas as pd\n",
    "from tqdm import tqdm\n",
    "import concurrent.futures\n",
    "import time\n",
    "\n",
    "class ConversationRating(BaseModel):\n",
    "    # justification: str\n",
    "    rating: int\n",
    "\n",
    "def rate_conversation(args):\n",
    "    conversation, client, data_labeling_prompt = args\n",
    "    try:\n",
    "        completion = client.beta.chat.completions.parse(\n",
    "            model=\"gpt-4o-mini\",\n",
    "            messages=[\n",
    "                {\"role\": \"system\", \"content\": data_labeling_prompt},\n",
    "                {\"role\": \"user\", \"content\": f\"Here is the conversation: {conversation}\"}\n",
    "            ],\n",
    "            response_format=ConversationRating,\n",
    "        )\n",
    "        return completion.choices[0].message.parsed\n",
    "    except Exception as e:\n",
    "        print(f\"Error processing conversation: {e}\")\n",
    "        return None\n",
    "\n",
    "# Initialize OpenAI client\n",
    "client = OpenAI(api_key=\"\")\n",
    "\n",
    "# Load the dataset\n",
    "df = pd.read_csv('data/concatenated_dialogue.csv')\n",
    "\n",
    "# Prepare arguments for parallel processing\n",
    "args_list = [(conversation, client, data_labeling_prompt) for conversation in df['text']]\n",
    "\n",
    "# Process conversations in parallel\n",
    "with concurrent.futures.ThreadPoolExecutor(max_workers=10) as executor:\n",
    "    results = list(tqdm(executor.map(rate_conversation, args_list), total=len(args_list), desc=\"Rating conversations\"))\n",
    "\n",
    "# Extract ratings and justifications\n",
    "ratings = []\n",
    "# justifications = []\n",
    "for result in results:\n",
    "    if result:\n",
    "        ratings.append(result.rating)\n",
    "        # justifications.append(result.justification)\n",
    "    else:\n",
    "        ratings.append(None)\n",
    "        # justifications.append(None)\n",
    "\n",
    "# Add new columns to the DataFrame\n",
    "df['rating'] = ratings\n",
    "# df['justification'] = justifications\n",
    "\n",
    "# Save the updated DataFrame\n",
    "df.to_csv('data/concatenated_dialogues_labeled.csv', index=False)\n",
    "\n",
    "print(\"Ratings have been added to the dataset and saved as 'rated_dialogues.csv'\")"
   ]
  },
  {
   "cell_type": "code",
   "execution_count": 8,
   "metadata": {},
   "outputs": [
    {
     "name": "stdout",
     "output_type": "stream",
     "text": [
      "   folder  dialogueID                      date      from        to                                                                                                                               text  rating\n",
      "0       7  100000.tsv  2007-03-01T07:55:00.000Z     dyrne  martalli                                    could you just put a script in inittab with the respawn option and use mplayer with a playlist?     4.0\n",
      "1       7  100000.tsv  2007-03-01T07:56:00.000Z  martalli       NaN  Well, actually, I was planning somehting like that, but looking for a pointer on what to look up first - I will check out inittab     4.0\n",
      "2       7  100000.tsv  2007-03-01T07:57:00.000Z  martalli       NaN                                                                                                         What would it be for edgy?     4.0\n",
      "3       7  100000.tsv  2007-03-01T07:57:00.000Z     dyrne  martalli                                                                   im not sure about new init.  i think edgy still has /etc/inittab     4.0\n",
      "4       7  100000.tsv  2007-03-01T07:58:00.000Z  martalli       NaN                             Regarding sound cards, I found this one:http://www.newegg.com/Product/Product.asp?Item=N82E16829130001     4.0\n"
     ]
    }
   ],
   "source": [
    "# Join these labels back to the original dataframe\n",
    "df = pd.read_csv('data/10k-dialogues-sample.csv')\n",
    "df_concatenated_labeled = pd.read_csv('data/concatenated_dialogues_labeled.csv')\n",
    "df_concatenated_labeled = df_concatenated_labeled[['dialogueID', 'rating']]\n",
    "df = df.merge(df_concatenated_labeled, on='dialogueID', how='left')\n",
    "df.to_csv('data/10k-dialogues-sample-labeled.csv', index=False)\n",
    "\n",
    "# Read the CSV file\n",
    "\n",
    "# Display the first few rows\n",
    "print(df.head().to_string())"
   ]
  }
 ],
 "metadata": {
  "kernelspec": {
   "display_name": "slingshot-venv",
   "language": "python",
   "name": "python3"
  },
  "language_info": {
   "codemirror_mode": {
    "name": "ipython",
    "version": 3
   },
   "file_extension": ".py",
   "mimetype": "text/x-python",
   "name": "python",
   "nbconvert_exporter": "python",
   "pygments_lexer": "ipython3",
   "version": "3.10.12"
  }
 },
 "nbformat": 4,
 "nbformat_minor": 2
}
